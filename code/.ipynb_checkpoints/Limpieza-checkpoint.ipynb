{
 "cells": [
  {
   "cell_type": "code",
   "execution_count": 1,
   "id": "a1a3caa9",
   "metadata": {},
   "outputs": [],
   "source": [
    "import numpy as np\n",
    "import pandas as pd\n"
   ]
  },
  {
   "cell_type": "code",
   "execution_count": 2,
   "id": "54164907",
   "metadata": {},
   "outputs": [],
   "source": [
    "path1 = '../w3-database-project/data/actor.csv'\n",
    "path2 = '../w3-database-project/data/category.csv'\n",
    "path3 = '../w3-database-project/data/film.csv'\n",
    "path4 = '../w3-database-project/data/inventory.csv'\n",
    "path5 = '../w3-database-project/data/language.csv'\n",
    "path6 = '../w3-database-project/data/old_HDD.csv'\n",
    "path7 = '../w3-database-project/data/rental.csv'\n"
   ]
  },
  {
   "cell_type": "code",
   "execution_count": 3,
   "id": "00e8d97c",
   "metadata": {},
   "outputs": [
    {
     "ename": "FileNotFoundError",
     "evalue": "[Errno 2] No such file or directory: '../w3-database-project/data/actor.csv'",
     "output_type": "error",
     "traceback": [
      "\u001b[1;31m---------------------------------------------------------------------------\u001b[0m",
      "\u001b[1;31mFileNotFoundError\u001b[0m                         Traceback (most recent call last)",
      "Input \u001b[1;32mIn [3]\u001b[0m, in \u001b[0;36m<cell line: 1>\u001b[1;34m()\u001b[0m\n\u001b[1;32m----> 1\u001b[0m actor \u001b[38;5;241m=\u001b[39m \u001b[43mpd\u001b[49m\u001b[38;5;241;43m.\u001b[39;49m\u001b[43mread_csv\u001b[49m\u001b[43m(\u001b[49m\u001b[43mpath1\u001b[49m\u001b[43m)\u001b[49m\n\u001b[0;32m      2\u001b[0m category \u001b[38;5;241m=\u001b[39m pd\u001b[38;5;241m.\u001b[39mread_csv(path2)\n\u001b[0;32m      3\u001b[0m film \u001b[38;5;241m=\u001b[39m pd\u001b[38;5;241m.\u001b[39mread_csv(path3)\n",
      "File \u001b[1;32m~\\anaconda3\\lib\\site-packages\\pandas\\util\\_decorators.py:311\u001b[0m, in \u001b[0;36mdeprecate_nonkeyword_arguments.<locals>.decorate.<locals>.wrapper\u001b[1;34m(*args, **kwargs)\u001b[0m\n\u001b[0;32m    305\u001b[0m \u001b[38;5;28;01mif\u001b[39;00m \u001b[38;5;28mlen\u001b[39m(args) \u001b[38;5;241m>\u001b[39m num_allow_args:\n\u001b[0;32m    306\u001b[0m     warnings\u001b[38;5;241m.\u001b[39mwarn(\n\u001b[0;32m    307\u001b[0m         msg\u001b[38;5;241m.\u001b[39mformat(arguments\u001b[38;5;241m=\u001b[39marguments),\n\u001b[0;32m    308\u001b[0m         \u001b[38;5;167;01mFutureWarning\u001b[39;00m,\n\u001b[0;32m    309\u001b[0m         stacklevel\u001b[38;5;241m=\u001b[39mstacklevel,\n\u001b[0;32m    310\u001b[0m     )\n\u001b[1;32m--> 311\u001b[0m \u001b[38;5;28;01mreturn\u001b[39;00m func(\u001b[38;5;241m*\u001b[39margs, \u001b[38;5;241m*\u001b[39m\u001b[38;5;241m*\u001b[39mkwargs)\n",
      "File \u001b[1;32m~\\anaconda3\\lib\\site-packages\\pandas\\io\\parsers\\readers.py:680\u001b[0m, in \u001b[0;36mread_csv\u001b[1;34m(filepath_or_buffer, sep, delimiter, header, names, index_col, usecols, squeeze, prefix, mangle_dupe_cols, dtype, engine, converters, true_values, false_values, skipinitialspace, skiprows, skipfooter, nrows, na_values, keep_default_na, na_filter, verbose, skip_blank_lines, parse_dates, infer_datetime_format, keep_date_col, date_parser, dayfirst, cache_dates, iterator, chunksize, compression, thousands, decimal, lineterminator, quotechar, quoting, doublequote, escapechar, comment, encoding, encoding_errors, dialect, error_bad_lines, warn_bad_lines, on_bad_lines, delim_whitespace, low_memory, memory_map, float_precision, storage_options)\u001b[0m\n\u001b[0;32m    665\u001b[0m kwds_defaults \u001b[38;5;241m=\u001b[39m _refine_defaults_read(\n\u001b[0;32m    666\u001b[0m     dialect,\n\u001b[0;32m    667\u001b[0m     delimiter,\n\u001b[1;32m   (...)\u001b[0m\n\u001b[0;32m    676\u001b[0m     defaults\u001b[38;5;241m=\u001b[39m{\u001b[38;5;124m\"\u001b[39m\u001b[38;5;124mdelimiter\u001b[39m\u001b[38;5;124m\"\u001b[39m: \u001b[38;5;124m\"\u001b[39m\u001b[38;5;124m,\u001b[39m\u001b[38;5;124m\"\u001b[39m},\n\u001b[0;32m    677\u001b[0m )\n\u001b[0;32m    678\u001b[0m kwds\u001b[38;5;241m.\u001b[39mupdate(kwds_defaults)\n\u001b[1;32m--> 680\u001b[0m \u001b[38;5;28;01mreturn\u001b[39;00m \u001b[43m_read\u001b[49m\u001b[43m(\u001b[49m\u001b[43mfilepath_or_buffer\u001b[49m\u001b[43m,\u001b[49m\u001b[43m \u001b[49m\u001b[43mkwds\u001b[49m\u001b[43m)\u001b[49m\n",
      "File \u001b[1;32m~\\anaconda3\\lib\\site-packages\\pandas\\io\\parsers\\readers.py:575\u001b[0m, in \u001b[0;36m_read\u001b[1;34m(filepath_or_buffer, kwds)\u001b[0m\n\u001b[0;32m    572\u001b[0m _validate_names(kwds\u001b[38;5;241m.\u001b[39mget(\u001b[38;5;124m\"\u001b[39m\u001b[38;5;124mnames\u001b[39m\u001b[38;5;124m\"\u001b[39m, \u001b[38;5;28;01mNone\u001b[39;00m))\n\u001b[0;32m    574\u001b[0m \u001b[38;5;66;03m# Create the parser.\u001b[39;00m\n\u001b[1;32m--> 575\u001b[0m parser \u001b[38;5;241m=\u001b[39m TextFileReader(filepath_or_buffer, \u001b[38;5;241m*\u001b[39m\u001b[38;5;241m*\u001b[39mkwds)\n\u001b[0;32m    577\u001b[0m \u001b[38;5;28;01mif\u001b[39;00m chunksize \u001b[38;5;129;01mor\u001b[39;00m iterator:\n\u001b[0;32m    578\u001b[0m     \u001b[38;5;28;01mreturn\u001b[39;00m parser\n",
      "File \u001b[1;32m~\\anaconda3\\lib\\site-packages\\pandas\\io\\parsers\\readers.py:933\u001b[0m, in \u001b[0;36mTextFileReader.__init__\u001b[1;34m(self, f, engine, **kwds)\u001b[0m\n\u001b[0;32m    930\u001b[0m     \u001b[38;5;28mself\u001b[39m\u001b[38;5;241m.\u001b[39moptions[\u001b[38;5;124m\"\u001b[39m\u001b[38;5;124mhas_index_names\u001b[39m\u001b[38;5;124m\"\u001b[39m] \u001b[38;5;241m=\u001b[39m kwds[\u001b[38;5;124m\"\u001b[39m\u001b[38;5;124mhas_index_names\u001b[39m\u001b[38;5;124m\"\u001b[39m]\n\u001b[0;32m    932\u001b[0m \u001b[38;5;28mself\u001b[39m\u001b[38;5;241m.\u001b[39mhandles: IOHandles \u001b[38;5;241m|\u001b[39m \u001b[38;5;28;01mNone\u001b[39;00m \u001b[38;5;241m=\u001b[39m \u001b[38;5;28;01mNone\u001b[39;00m\n\u001b[1;32m--> 933\u001b[0m \u001b[38;5;28mself\u001b[39m\u001b[38;5;241m.\u001b[39m_engine \u001b[38;5;241m=\u001b[39m \u001b[38;5;28;43mself\u001b[39;49m\u001b[38;5;241;43m.\u001b[39;49m\u001b[43m_make_engine\u001b[49m\u001b[43m(\u001b[49m\u001b[43mf\u001b[49m\u001b[43m,\u001b[49m\u001b[43m \u001b[49m\u001b[38;5;28;43mself\u001b[39;49m\u001b[38;5;241;43m.\u001b[39;49m\u001b[43mengine\u001b[49m\u001b[43m)\u001b[49m\n",
      "File \u001b[1;32m~\\anaconda3\\lib\\site-packages\\pandas\\io\\parsers\\readers.py:1217\u001b[0m, in \u001b[0;36mTextFileReader._make_engine\u001b[1;34m(self, f, engine)\u001b[0m\n\u001b[0;32m   1213\u001b[0m     mode \u001b[38;5;241m=\u001b[39m \u001b[38;5;124m\"\u001b[39m\u001b[38;5;124mrb\u001b[39m\u001b[38;5;124m\"\u001b[39m\n\u001b[0;32m   1214\u001b[0m \u001b[38;5;66;03m# error: No overload variant of \"get_handle\" matches argument types\u001b[39;00m\n\u001b[0;32m   1215\u001b[0m \u001b[38;5;66;03m# \"Union[str, PathLike[str], ReadCsvBuffer[bytes], ReadCsvBuffer[str]]\"\u001b[39;00m\n\u001b[0;32m   1216\u001b[0m \u001b[38;5;66;03m# , \"str\", \"bool\", \"Any\", \"Any\", \"Any\", \"Any\", \"Any\"\u001b[39;00m\n\u001b[1;32m-> 1217\u001b[0m \u001b[38;5;28mself\u001b[39m\u001b[38;5;241m.\u001b[39mhandles \u001b[38;5;241m=\u001b[39m \u001b[43mget_handle\u001b[49m\u001b[43m(\u001b[49m\u001b[43m  \u001b[49m\u001b[38;5;66;43;03m# type: ignore[call-overload]\u001b[39;49;00m\n\u001b[0;32m   1218\u001b[0m \u001b[43m    \u001b[49m\u001b[43mf\u001b[49m\u001b[43m,\u001b[49m\n\u001b[0;32m   1219\u001b[0m \u001b[43m    \u001b[49m\u001b[43mmode\u001b[49m\u001b[43m,\u001b[49m\n\u001b[0;32m   1220\u001b[0m \u001b[43m    \u001b[49m\u001b[43mencoding\u001b[49m\u001b[38;5;241;43m=\u001b[39;49m\u001b[38;5;28;43mself\u001b[39;49m\u001b[38;5;241;43m.\u001b[39;49m\u001b[43moptions\u001b[49m\u001b[38;5;241;43m.\u001b[39;49m\u001b[43mget\u001b[49m\u001b[43m(\u001b[49m\u001b[38;5;124;43m\"\u001b[39;49m\u001b[38;5;124;43mencoding\u001b[39;49m\u001b[38;5;124;43m\"\u001b[39;49m\u001b[43m,\u001b[49m\u001b[43m \u001b[49m\u001b[38;5;28;43;01mNone\u001b[39;49;00m\u001b[43m)\u001b[49m\u001b[43m,\u001b[49m\n\u001b[0;32m   1221\u001b[0m \u001b[43m    \u001b[49m\u001b[43mcompression\u001b[49m\u001b[38;5;241;43m=\u001b[39;49m\u001b[38;5;28;43mself\u001b[39;49m\u001b[38;5;241;43m.\u001b[39;49m\u001b[43moptions\u001b[49m\u001b[38;5;241;43m.\u001b[39;49m\u001b[43mget\u001b[49m\u001b[43m(\u001b[49m\u001b[38;5;124;43m\"\u001b[39;49m\u001b[38;5;124;43mcompression\u001b[39;49m\u001b[38;5;124;43m\"\u001b[39;49m\u001b[43m,\u001b[49m\u001b[43m \u001b[49m\u001b[38;5;28;43;01mNone\u001b[39;49;00m\u001b[43m)\u001b[49m\u001b[43m,\u001b[49m\n\u001b[0;32m   1222\u001b[0m \u001b[43m    \u001b[49m\u001b[43mmemory_map\u001b[49m\u001b[38;5;241;43m=\u001b[39;49m\u001b[38;5;28;43mself\u001b[39;49m\u001b[38;5;241;43m.\u001b[39;49m\u001b[43moptions\u001b[49m\u001b[38;5;241;43m.\u001b[39;49m\u001b[43mget\u001b[49m\u001b[43m(\u001b[49m\u001b[38;5;124;43m\"\u001b[39;49m\u001b[38;5;124;43mmemory_map\u001b[39;49m\u001b[38;5;124;43m\"\u001b[39;49m\u001b[43m,\u001b[49m\u001b[43m \u001b[49m\u001b[38;5;28;43;01mFalse\u001b[39;49;00m\u001b[43m)\u001b[49m\u001b[43m,\u001b[49m\n\u001b[0;32m   1223\u001b[0m \u001b[43m    \u001b[49m\u001b[43mis_text\u001b[49m\u001b[38;5;241;43m=\u001b[39;49m\u001b[43mis_text\u001b[49m\u001b[43m,\u001b[49m\n\u001b[0;32m   1224\u001b[0m \u001b[43m    \u001b[49m\u001b[43merrors\u001b[49m\u001b[38;5;241;43m=\u001b[39;49m\u001b[38;5;28;43mself\u001b[39;49m\u001b[38;5;241;43m.\u001b[39;49m\u001b[43moptions\u001b[49m\u001b[38;5;241;43m.\u001b[39;49m\u001b[43mget\u001b[49m\u001b[43m(\u001b[49m\u001b[38;5;124;43m\"\u001b[39;49m\u001b[38;5;124;43mencoding_errors\u001b[39;49m\u001b[38;5;124;43m\"\u001b[39;49m\u001b[43m,\u001b[49m\u001b[43m \u001b[49m\u001b[38;5;124;43m\"\u001b[39;49m\u001b[38;5;124;43mstrict\u001b[39;49m\u001b[38;5;124;43m\"\u001b[39;49m\u001b[43m)\u001b[49m\u001b[43m,\u001b[49m\n\u001b[0;32m   1225\u001b[0m \u001b[43m    \u001b[49m\u001b[43mstorage_options\u001b[49m\u001b[38;5;241;43m=\u001b[39;49m\u001b[38;5;28;43mself\u001b[39;49m\u001b[38;5;241;43m.\u001b[39;49m\u001b[43moptions\u001b[49m\u001b[38;5;241;43m.\u001b[39;49m\u001b[43mget\u001b[49m\u001b[43m(\u001b[49m\u001b[38;5;124;43m\"\u001b[39;49m\u001b[38;5;124;43mstorage_options\u001b[39;49m\u001b[38;5;124;43m\"\u001b[39;49m\u001b[43m,\u001b[49m\u001b[43m \u001b[49m\u001b[38;5;28;43;01mNone\u001b[39;49;00m\u001b[43m)\u001b[49m\u001b[43m,\u001b[49m\n\u001b[0;32m   1226\u001b[0m \u001b[43m\u001b[49m\u001b[43m)\u001b[49m\n\u001b[0;32m   1227\u001b[0m \u001b[38;5;28;01massert\u001b[39;00m \u001b[38;5;28mself\u001b[39m\u001b[38;5;241m.\u001b[39mhandles \u001b[38;5;129;01mis\u001b[39;00m \u001b[38;5;129;01mnot\u001b[39;00m \u001b[38;5;28;01mNone\u001b[39;00m\n\u001b[0;32m   1228\u001b[0m f \u001b[38;5;241m=\u001b[39m \u001b[38;5;28mself\u001b[39m\u001b[38;5;241m.\u001b[39mhandles\u001b[38;5;241m.\u001b[39mhandle\n",
      "File \u001b[1;32m~\\anaconda3\\lib\\site-packages\\pandas\\io\\common.py:789\u001b[0m, in \u001b[0;36mget_handle\u001b[1;34m(path_or_buf, mode, encoding, compression, memory_map, is_text, errors, storage_options)\u001b[0m\n\u001b[0;32m    784\u001b[0m \u001b[38;5;28;01melif\u001b[39;00m \u001b[38;5;28misinstance\u001b[39m(handle, \u001b[38;5;28mstr\u001b[39m):\n\u001b[0;32m    785\u001b[0m     \u001b[38;5;66;03m# Check whether the filename is to be opened in binary mode.\u001b[39;00m\n\u001b[0;32m    786\u001b[0m     \u001b[38;5;66;03m# Binary mode does not support 'encoding' and 'newline'.\u001b[39;00m\n\u001b[0;32m    787\u001b[0m     \u001b[38;5;28;01mif\u001b[39;00m ioargs\u001b[38;5;241m.\u001b[39mencoding \u001b[38;5;129;01mand\u001b[39;00m \u001b[38;5;124m\"\u001b[39m\u001b[38;5;124mb\u001b[39m\u001b[38;5;124m\"\u001b[39m \u001b[38;5;129;01mnot\u001b[39;00m \u001b[38;5;129;01min\u001b[39;00m ioargs\u001b[38;5;241m.\u001b[39mmode:\n\u001b[0;32m    788\u001b[0m         \u001b[38;5;66;03m# Encoding\u001b[39;00m\n\u001b[1;32m--> 789\u001b[0m         handle \u001b[38;5;241m=\u001b[39m \u001b[38;5;28;43mopen\u001b[39;49m\u001b[43m(\u001b[49m\n\u001b[0;32m    790\u001b[0m \u001b[43m            \u001b[49m\u001b[43mhandle\u001b[49m\u001b[43m,\u001b[49m\n\u001b[0;32m    791\u001b[0m \u001b[43m            \u001b[49m\u001b[43mioargs\u001b[49m\u001b[38;5;241;43m.\u001b[39;49m\u001b[43mmode\u001b[49m\u001b[43m,\u001b[49m\n\u001b[0;32m    792\u001b[0m \u001b[43m            \u001b[49m\u001b[43mencoding\u001b[49m\u001b[38;5;241;43m=\u001b[39;49m\u001b[43mioargs\u001b[49m\u001b[38;5;241;43m.\u001b[39;49m\u001b[43mencoding\u001b[49m\u001b[43m,\u001b[49m\n\u001b[0;32m    793\u001b[0m \u001b[43m            \u001b[49m\u001b[43merrors\u001b[49m\u001b[38;5;241;43m=\u001b[39;49m\u001b[43merrors\u001b[49m\u001b[43m,\u001b[49m\n\u001b[0;32m    794\u001b[0m \u001b[43m            \u001b[49m\u001b[43mnewline\u001b[49m\u001b[38;5;241;43m=\u001b[39;49m\u001b[38;5;124;43m\"\u001b[39;49m\u001b[38;5;124;43m\"\u001b[39;49m\u001b[43m,\u001b[49m\n\u001b[0;32m    795\u001b[0m \u001b[43m        \u001b[49m\u001b[43m)\u001b[49m\n\u001b[0;32m    796\u001b[0m     \u001b[38;5;28;01melse\u001b[39;00m:\n\u001b[0;32m    797\u001b[0m         \u001b[38;5;66;03m# Binary mode\u001b[39;00m\n\u001b[0;32m    798\u001b[0m         handle \u001b[38;5;241m=\u001b[39m \u001b[38;5;28mopen\u001b[39m(handle, ioargs\u001b[38;5;241m.\u001b[39mmode)\n",
      "\u001b[1;31mFileNotFoundError\u001b[0m: [Errno 2] No such file or directory: '../w3-database-project/data/actor.csv'"
     ]
    }
   ],
   "source": [
    "actor = pd.read_csv(path1)\n",
    "category = pd.read_csv(path2)\n",
    "film = pd.read_csv(path3)\n",
    "inventory = pd.read_csv(path4)\n",
    "language = pd.read_csv(path5)\n",
    "old_HDD = pd.read_csv(path6)\n",
    "rental = pd.read_csv(path7)"
   ]
  },
  {
   "cell_type": "markdown",
   "id": "009038b6",
   "metadata": {},
   "source": [
    "-------------------------------------------------------------------------------------------"
   ]
  },
  {
   "cell_type": "code",
   "execution_count": null,
   "id": "3d7692f0",
   "metadata": {},
   "outputs": [],
   "source": [
    "#actor"
   ]
  },
  {
   "cell_type": "code",
   "execution_count": null,
   "id": "b6c4f552",
   "metadata": {},
   "outputs": [],
   "source": [
    "actor.info(memory_usage = 'deep') #no hay nulos"
   ]
  },
  {
   "cell_type": "code",
   "execution_count": null,
   "id": "defae53e",
   "metadata": {},
   "outputs": [],
   "source": [
    "actor.drop_duplicates() #no hay duplicados"
   ]
  },
  {
   "cell_type": "code",
   "execution_count": null,
   "id": "f11b5e27",
   "metadata": {},
   "outputs": [],
   "source": [
    "actor.last_update.value_counts() #son todas iguales\n",
    "actor.drop('last_update', axis = 1,inplace=True)"
   ]
  },
  {
   "cell_type": "code",
   "execution_count": null,
   "id": "480edf38",
   "metadata": {},
   "outputs": [],
   "source": [
    "actor['actor_id'] = actor['actor_id'].astype('int16')"
   ]
  },
  {
   "cell_type": "code",
   "execution_count": null,
   "id": "b40c5396",
   "metadata": {},
   "outputs": [],
   "source": [
    "actor['first_name']=actor['first_name'].astype('category')"
   ]
  },
  {
   "cell_type": "code",
   "execution_count": null,
   "id": "7e9a66e0",
   "metadata": {},
   "outputs": [],
   "source": [
    "actor['last_name']=actor['last_name'].astype('category')"
   ]
  },
  {
   "cell_type": "code",
   "execution_count": null,
   "id": "2c9619bd",
   "metadata": {},
   "outputs": [],
   "source": [
    "actor.info(memory_usage='deep')"
   ]
  },
  {
   "cell_type": "markdown",
   "id": "ac511b59",
   "metadata": {},
   "source": [
    "---------------------------------------------------------------------------------------"
   ]
  },
  {
   "cell_type": "code",
   "execution_count": null,
   "id": "97a3aaba",
   "metadata": {},
   "outputs": [],
   "source": [
    "#category"
   ]
  },
  {
   "cell_type": "code",
   "execution_count": null,
   "id": "705c3a17",
   "metadata": {},
   "outputs": [],
   "source": [
    "category.info(memory_usage='deep') #no hay nulos"
   ]
  },
  {
   "cell_type": "code",
   "execution_count": null,
   "id": "63cf0b9f",
   "metadata": {},
   "outputs": [],
   "source": [
    "category.drop_duplicates() #no hay filas duplicatas"
   ]
  },
  {
   "cell_type": "code",
   "execution_count": null,
   "id": "37dc138d",
   "metadata": {},
   "outputs": [],
   "source": [
    "category.last_update.value_counts() #todos iguales"
   ]
  },
  {
   "cell_type": "code",
   "execution_count": null,
   "id": "b6e22fd9",
   "metadata": {},
   "outputs": [],
   "source": [
    "category.drop('last_update', axis = 1, inplace = True)"
   ]
  },
  {
   "cell_type": "code",
   "execution_count": null,
   "id": "fcfb6971",
   "metadata": {},
   "outputs": [],
   "source": [
    "category['category_id'] = category['category_id'].astype('int16')"
   ]
  },
  {
   "cell_type": "code",
   "execution_count": null,
   "id": "0842d48e",
   "metadata": {},
   "outputs": [],
   "source": [
    "category['name'] = category['name'].astype('category')"
   ]
  },
  {
   "cell_type": "code",
   "execution_count": null,
   "id": "f9555b00",
   "metadata": {},
   "outputs": [],
   "source": [
    "category.info(memory_usage='deep')"
   ]
  },
  {
   "cell_type": "markdown",
   "id": "24945052",
   "metadata": {},
   "source": [
    "---------------------------------------------------\n"
   ]
  },
  {
   "cell_type": "code",
   "execution_count": null,
   "id": "4ae7632e",
   "metadata": {},
   "outputs": [],
   "source": [
    "#film"
   ]
  },
  {
   "cell_type": "code",
   "execution_count": null,
   "id": "83f0e007",
   "metadata": {},
   "outputs": [],
   "source": [
    "film.info(memory_usage='deep')"
   ]
  },
  {
   "cell_type": "code",
   "execution_count": null,
   "id": "91fc8f26",
   "metadata": {},
   "outputs": [],
   "source": [
    "film.drop_duplicates()"
   ]
  },
  {
   "cell_type": "code",
   "execution_count": null,
   "id": "4eb411a5",
   "metadata": {},
   "outputs": [],
   "source": [
    "film.drop(['original_language_id', 'last_update', 'release_year'], axis =1, inplace = True)"
   ]
  },
  {
   "cell_type": "code",
   "execution_count": null,
   "id": "1fcb2fca",
   "metadata": {},
   "outputs": [],
   "source": [
    "film.rename(columns ={'language_id':'language'}, inplace = True)"
   ]
  },
  {
   "cell_type": "code",
   "execution_count": null,
   "id": "7ce5ffce",
   "metadata": {},
   "outputs": [],
   "source": [
    "lst = []\n",
    "for i in range(1001):\n",
    "    lst.append('English')\n",
    "    film['language'] = film.replace(film['language'], pd.Series(lst), inplace=True)\n",
    "    film['language'] = film.language.fillna('English')"
   ]
  },
  {
   "cell_type": "code",
   "execution_count": null,
   "id": "29b76716",
   "metadata": {},
   "outputs": [],
   "source": [
    "film['film_id'] = film['film_id'].astype('int32')\n",
    "film['title'] = film['title'].astype('category')\n",
    "film['description'] = film['description'].astype('category')\n",
    "film['language'] = film['language'].astype('category')\n",
    "film['rental_duration'] = film['rental_duration'].astype('int8')\n",
    "film['rental_rate'] = film['rental_rate'].astype('float16')\n",
    "film['length'] = film['length'].astype('int16')\n",
    "film['replacement_cost'] = film['replacement_cost'].astype('float16')\n",
    "film['rating'] = film['rating'].astype('category')\n",
    "film['special_features'] = film['special_features'].astype('category')"
   ]
  },
  {
   "cell_type": "code",
   "execution_count": null,
   "id": "31864ad4",
   "metadata": {},
   "outputs": [],
   "source": [
    "film.info(memory_usage='deep')"
   ]
  },
  {
   "cell_type": "code",
   "execution_count": null,
   "id": "0e3b777e",
   "metadata": {},
   "outputs": [],
   "source": []
  },
  {
   "cell_type": "markdown",
   "id": "9780c2c9",
   "metadata": {},
   "source": [
    "-------------------------------------------------------------------------"
   ]
  },
  {
   "cell_type": "code",
   "execution_count": null,
   "id": "4faf309e",
   "metadata": {},
   "outputs": [],
   "source": [
    "#inventory"
   ]
  },
  {
   "cell_type": "code",
   "execution_count": null,
   "id": "9cb20b76",
   "metadata": {},
   "outputs": [],
   "source": [
    "inventory.info(memory_usage='deep')"
   ]
  },
  {
   "cell_type": "code",
   "execution_count": null,
   "id": "7ffcd5ee",
   "metadata": {},
   "outputs": [],
   "source": [
    "inventory.drop_duplicates()"
   ]
  },
  {
   "cell_type": "code",
   "execution_count": null,
   "id": "98c6e073",
   "metadata": {},
   "outputs": [],
   "source": [
    "inventory.drop('last_update', axis = 1, inplace = True)"
   ]
  },
  {
   "cell_type": "code",
   "execution_count": null,
   "id": "edc3562b",
   "metadata": {},
   "outputs": [],
   "source": [
    "inventory['inventory_id'] = inventory['inventory_id'].astype('int16')\n",
    "inventory['film_id'] = inventory['film_id'].astype('int16') \n",
    "inventory['store_id'] = inventory['store_id'].astype('int8')"
   ]
  },
  {
   "cell_type": "code",
   "execution_count": null,
   "id": "4a886ddd",
   "metadata": {},
   "outputs": [],
   "source": []
  },
  {
   "cell_type": "markdown",
   "id": "7f13d72e",
   "metadata": {},
   "source": [
    "-----------------------------------------------------------------------------------"
   ]
  },
  {
   "cell_type": "code",
   "execution_count": null,
   "id": "4379f19b",
   "metadata": {},
   "outputs": [],
   "source": [
    "#language"
   ]
  },
  {
   "cell_type": "markdown",
   "id": "64dfda24",
   "metadata": {},
   "source": [
    "Esta tabla se ha decidido eliminar o ignorar porque no aporta nada de información"
   ]
  },
  {
   "cell_type": "code",
   "execution_count": null,
   "id": "eeb579c3",
   "metadata": {},
   "outputs": [],
   "source": []
  },
  {
   "cell_type": "markdown",
   "id": "c486b69d",
   "metadata": {},
   "source": [
    "-----------------"
   ]
  },
  {
   "cell_type": "code",
   "execution_count": null,
   "id": "22203a04",
   "metadata": {},
   "outputs": [],
   "source": [
    "#old_HDD"
   ]
  },
  {
   "cell_type": "code",
   "execution_count": null,
   "id": "23e04953",
   "metadata": {},
   "outputs": [],
   "source": [
    "old_HDD.info(memory_usage=True)"
   ]
  },
  {
   "cell_type": "code",
   "execution_count": null,
   "id": "928cf376",
   "metadata": {},
   "outputs": [],
   "source": [
    "old_HDD.drop_duplicates()"
   ]
  },
  {
   "cell_type": "code",
   "execution_count": null,
   "id": "714e05d5",
   "metadata": {},
   "outputs": [],
   "source": [
    "old_HDD.drop('release_year',axis = 1,  inplace=True)"
   ]
  },
  {
   "cell_type": "code",
   "execution_count": null,
   "id": "d0f71cdf",
   "metadata": {},
   "outputs": [],
   "source": [
    "old_HDD['first_name'] = old_HDD['first_name'].astype('category')\n",
    "old_HDD['last_name'] = old_HDD['last_name'].astype('category')\n",
    "old_HDD['title'] = old_HDD['title'].astype('category')\n",
    "old_HDD['category_id'] = old_HDD['category_id'].astype('int8')"
   ]
  },
  {
   "cell_type": "code",
   "execution_count": null,
   "id": "76f2c208",
   "metadata": {},
   "outputs": [],
   "source": [
    "old_HDD.info(memory_usage='deep')"
   ]
  },
  {
   "cell_type": "code",
   "execution_count": null,
   "id": "01899c76",
   "metadata": {},
   "outputs": [],
   "source": []
  },
  {
   "cell_type": "markdown",
   "id": "55615ff5",
   "metadata": {},
   "source": [
    "-----\n"
   ]
  },
  {
   "cell_type": "code",
   "execution_count": null,
   "id": "72f7343f",
   "metadata": {},
   "outputs": [],
   "source": [
    "#rental "
   ]
  },
  {
   "cell_type": "code",
   "execution_count": null,
   "id": "3029c210",
   "metadata": {},
   "outputs": [],
   "source": [
    "rental.info(memory_usage='deep')"
   ]
  },
  {
   "cell_type": "code",
   "execution_count": null,
   "id": "11380d98",
   "metadata": {},
   "outputs": [],
   "source": [
    "rental.drop_duplicates()"
   ]
  },
  {
   "cell_type": "code",
   "execution_count": null,
   "id": "5aa4a6af",
   "metadata": {},
   "outputs": [],
   "source": [
    "rental.drop('last_update', axis = 1, inplace = True)"
   ]
  },
  {
   "cell_type": "code",
   "execution_count": null,
   "id": "550c3297",
   "metadata": {},
   "outputs": [],
   "source": [
    "rental['rental_id'] = rental['rental_id'].astype('int16')\n",
    "rental['rental_date'] = pd.to_datetime(rental['rental_date'])\n",
    "rental['inventory_id'] = rental['inventory_id'].astype('int16')\n",
    "rental['customer_id'] = rental['customer_id'].astype('int16')\n",
    "rental['return_date'] = pd.to_datetime(rental['return_date'])\n",
    "rental['staff_id'] = rental['staff_id'].astype('int8')"
   ]
  },
  {
   "cell_type": "code",
   "execution_count": null,
   "id": "c165335a",
   "metadata": {},
   "outputs": [],
   "source": [
    "rental.info(memory_usage='deep')"
   ]
  },
  {
   "cell_type": "code",
   "execution_count": null,
   "id": "e1051292",
   "metadata": {},
   "outputs": [],
   "source": []
  },
  {
   "cell_type": "markdown",
   "id": "faa713e3",
   "metadata": {},
   "source": [
    "-------------"
   ]
  },
  {
   "cell_type": "code",
   "execution_count": null,
   "id": "6da88732",
   "metadata": {},
   "outputs": [],
   "source": [
    "actor.head()"
   ]
  },
  {
   "cell_type": "code",
   "execution_count": null,
   "id": "d24e849d",
   "metadata": {},
   "outputs": [],
   "source": [
    "category.head()"
   ]
  },
  {
   "cell_type": "code",
   "execution_count": null,
   "id": "5c6d8ec8",
   "metadata": {},
   "outputs": [],
   "source": [
    "film.head()"
   ]
  },
  {
   "cell_type": "code",
   "execution_count": null,
   "id": "01320770",
   "metadata": {},
   "outputs": [],
   "source": [
    "inventory.head()"
   ]
  },
  {
   "cell_type": "code",
   "execution_count": null,
   "id": "689a84ab",
   "metadata": {},
   "outputs": [],
   "source": [
    "  old_HDD.head()"
   ]
  },
  {
   "cell_type": "code",
   "execution_count": null,
   "id": "40ddcb73",
   "metadata": {},
   "outputs": [],
   "source": [
    "rental.head()"
   ]
  },
  {
   "cell_type": "code",
   "execution_count": null,
   "id": "75cc0a19",
   "metadata": {},
   "outputs": [],
   "source": []
  },
  {
   "cell_type": "markdown",
   "id": "f515b352",
   "metadata": {},
   "source": [
    "------------"
   ]
  },
  {
   "cell_type": "code",
   "execution_count": null,
   "id": "5e158ed6",
   "metadata": {},
   "outputs": [],
   "source": [
    "actor.to_csv('actorc')\n",
    "category.to_csv('categoryc')\n",
    "film.to_csv('filmc')\n",
    "inventory.to_csv('inventoryc')\n",
    "old_HDD.to_csv('old_HDDc')\n",
    "rental.to_csv('rentalc')"
   ]
  },
  {
   "cell_type": "code",
   "execution_count": null,
   "id": "cf67bb21",
   "metadata": {},
   "outputs": [],
   "source": []
  }
 ],
 "metadata": {
  "kernelspec": {
   "display_name": "Python 3 (ipykernel)",
   "language": "python",
   "name": "python3"
  },
  "language_info": {
   "codemirror_mode": {
    "name": "ipython",
    "version": 3
   },
   "file_extension": ".py",
   "mimetype": "text/x-python",
   "name": "python",
   "nbconvert_exporter": "python",
   "pygments_lexer": "ipython3",
   "version": "3.9.12"
  }
 },
 "nbformat": 4,
 "nbformat_minor": 5
}
